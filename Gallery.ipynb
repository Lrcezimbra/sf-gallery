{
 "cells": [
  {
   "cell_type": "code",
   "execution_count": 81,
   "metadata": {
    "collapsed": true
   },
   "outputs": [],
   "source": [
    "import os\n",
    "import tinify\n",
    "from decouple import config"
   ]
  },
  {
   "cell_type": "code",
   "execution_count": 83,
   "metadata": {},
   "outputs": [],
   "source": [
    "tinify.key = config('TINYPNG_KEY')\n",
    "images_path = '/home/lucas/Pictures/8ª Corrida de São Jorge'\n",
    "new_images_path = '/home/lucas/Downloads/galeria'"
   ]
  },
  {
   "cell_type": "code",
   "execution_count": 54,
   "metadata": {
    "collapsed": true
   },
   "outputs": [],
   "source": [
    "if not os.path.exists(new_images_path):\n",
    "    os.mkdir(new_images_path)"
   ]
  },
  {
   "cell_type": "code",
   "execution_count": 73,
   "metadata": {
    "collapsed": true
   },
   "outputs": [],
   "source": [
    "files = list(os.scandir(images_path))\n",
    "filespaths = [file.path for file in files]\n",
    "new_names = ['{:03d}.{}'.format(index+1, file.name[-3:])\n",
    "             for index, file in enumerate(files)]\n",
    "new_filepaths = [os.path.join(new_images_path, new_name)\n",
    "                 for new_name in new_names]"
   ]
  },
  {
   "cell_type": "code",
   "execution_count": 79,
   "metadata": {},
   "outputs": [
    {
     "name": "stdout",
     "output_type": "stream",
     "text": [
      "/home/lucas/Pictures/8ª Corrida de São Jorge/8SJORGEANS3852.jpg /home/lucas/Downloads/galeria/001.jpg\n",
      "/home/lucas/Pictures/8ª Corrida de São Jorge/8SJORGEANS3842.jpg /home/lucas/Downloads/galeria/002.jpg\n",
      "/home/lucas/Pictures/8ª Corrida de São Jorge/8SJORGEANS3841.jpg /home/lucas/Downloads/galeria/003.jpg\n",
      "/home/lucas/Pictures/8ª Corrida de São Jorge/8SJORGEANS3846.jpg /home/lucas/Downloads/galeria/004.jpg\n",
      "/home/lucas/Pictures/8ª Corrida de São Jorge/8SJORGEANS3859.jpg /home/lucas/Downloads/galeria/005.jpg\n"
     ]
    }
   ],
   "source": [
    "for filepath, new_filepath in zip(filespaths, new_filepaths):\n",
    "    print(filepath, new_filepath)\n",
    "    tinify.from_file(filepath)\\\n",
    "          .resize(method='scale',height=720)\\\n",
    "          .to_file(new_filepath)"
   ]
  },
  {
   "cell_type": "code",
   "execution_count": 36,
   "metadata": {},
   "outputs": [
    {
     "name": "stdout",
     "output_type": "stream",
     "text": [
      "['001.jpg', '002.jpg', '003.jpg', '004.jpg', '005.jpg', '006.jpg', '007.jpg', '008.jpg', '009.jpg', '010.jpg', '011.jpg', '012.jpg', '013.jpg', '014.jpg', '015.jpg', '016.jpg', '017.jpg', '018.jpg', '019.jpg', '020.jpg', '021.jpg', '022.jpg', '023.jpg', '024.jpg', '025.jpg', '026.jpg', '027.jpg', '028.jpg', '029.jpg', '030.jpg', '031.jpg', '032.jpg', '033.jpg', '034.jpg', '035.jpg', '036.jpg', '037.jpg', '038.jpg', '039.jpg', '040.jpg', '041.jpg', '042.jpg', '043.jpg', '044.jpg', '045.jpg', '046.jpg', '047.jpg', '048.jpg', '049.jpg', '050.jpg', '051.jpg', '052.jpg', '053.jpg', '054.jpg', '055.jpg', '056.jpg', '057.jpg', '058.jpg', '059.jpg', '060.jpg', '061.jpg', '062.jpg', '063.jpg', '064.jpg', '065.jpg', '066.jpg', '067.jpg', '068.jpg', '069.jpg', '070.jpg', '071.jpg', '072.jpg', '073.jpg', '074.jpg', '075.jpg', '076.jpg', '077.jpg', '078.jpg', '079.jpg', '080.jpg', '081.jpg', '082.jpg', '083.jpg', '084.jpg', '085.jpg', '086.jpg', '087.jpg', '088.jpg']\n"
     ]
    }
   ],
   "source": [
    "print(new_names)"
   ]
  },
  {
   "cell_type": "code",
   "execution_count": null,
   "metadata": {
    "collapsed": true
   },
   "outputs": [],
   "source": []
  }
 ],
 "metadata": {
  "kernelspec": {
   "display_name": "Python 3",
   "language": "python",
   "name": "python3"
  },
  "language_info": {
   "codemirror_mode": {
    "name": "ipython",
    "version": 3
   },
   "file_extension": ".py",
   "mimetype": "text/x-python",
   "name": "python",
   "nbconvert_exporter": "python",
   "pygments_lexer": "ipython3",
   "version": "3.5.2"
  }
 },
 "nbformat": 4,
 "nbformat_minor": 2
}
